{
 "cells": [
  {
   "cell_type": "markdown",
   "metadata": {},
   "source": [
    "#  Autore"
   ]
  },
  {
   "cell_type": "markdown",
   "metadata": {},
   "source": [
    "Giulio Mazzacuva, 6060660, giulio.mazzacuva@stud.unifi.it"
   ]
  },
  {
   "cell_type": "markdown",
   "metadata": {},
   "source": [
    "# Primalità dei numeri di Fuss-Catalan\n",
    "In questo notebook vogliamo determinare quali sono i numeri primi a partire da una generalizzazione dei numeri di Fuss-Catalan. Di seguito mostreremo alcune simulazioni numeriche che riguardano i risultati ottenuti nell'articolo [On the Primality of the Generalized Fuss-Catalan Numbers][cn].\n",
    "[cn]:https://cs.uwaterloo.ca/journals/JIS/VOL21/He/he61.pdf"
   ]
  },
  {
   "cell_type": "markdown",
   "metadata": {},
   "source": [
    "Innanzitutto enunciamo alcune relazioni fondamentali. E' noto che gli unici numeri primi tra i numeri di Catalan sono $C_2=2$ e $C_3=5$. Dati gli interi $m\\geq 2$ e $n,k\\geq 1$, la successione dei numeri di Catalan è definita come segue:\n",
    "\n",
    "$$C_{n} = \\frac{1}{2n+1}\\binom{2n+1}{n} = \\frac{1}{n+1}\\binom{2n}{n}$$\n",
    "\n",
    "I primi 11 numeri di Catalan sono: 1, 1, 2, 5, 14, 42, 132, 429, 1430, 4862, 16796 ($=C_{10}$). Osserviamo innanzitutto che la funzione di Catalan, per definizione, genera numeri interi positivi e, allo stesso modo anche ogni sua generalizzazione fa altrettanto. Consideriamo dunque una prima generalizzazione di $C_n$ inserendo un parametro $m$ in questo modo:\n",
    "\n",
    "$$F_{m}(n) = \\frac{1}{mn+1}\\binom{mn+1}{n} = \\frac{1}{(m-1)n+1}\\binom{mn}{n}$$\n",
    "\n",
    "I numeri che si ottengono dalla formula precedente prendono il nome di numeri di Fuss-Catalan. Sostanzialmente equivalgono ai numeri di Catalan per $m=2$. Possiamo generalizzare ancora di più inserendo un ulteriore parametro $k$. La formula sarà della forma $F_m(n,k)$ e prende il nome di Fuss-Catalan generalizzata:\n",
    "\n",
    "$$ F_{m}(n,k) = \\frac{k}{mn+k}\\binom{mn+k}{n} = \\frac{k}{(m-1)n+k}\\binom{mn+k-1}{n} $$\n",
    "\n",
    "Si osserva intuitivamente che la generalizzazione per $k$ porta alle seguenti uguaglianze: $F_m(n,1)=F_m(n)$ e $F_2(n)=F_2(n,1)=C_n$.\n",
    "\n",
    "Allo scopo di verificare quanto appena detto, possiamo allora implementare una funzione che calcola l'n-esimo numero di Fuss-Catalan generalizzato usando sympy in questo modo: "
   ]
  },
  {
   "cell_type": "code",
   "execution_count": 50,
   "metadata": {},
   "outputs": [
    {
     "data": {
      "image/png": "[encoded data removed]",
      "text/latex": [
       "$$F{\\left (n,k,m \\right )} = \\frac{k {\\binom{k + m n}{n}}}{k + m n}$$"
      ],
      "text/plain": [
       "               ⎛k + m⋅n⎞\n",
       "             k⋅⎜       ⎟\n",
       "               ⎝   n   ⎠\n",
       "F(n, k, m) = ───────────\n",
       "               k + m⋅n  "
      ]
     },
     "execution_count": 50,
     "metadata": {},
     "output_type": "execute_result"
    }
   ],
   "source": [
    "from __future__ import division\n",
    "from sympy import *\n",
    "\n",
    "init_printing()\n",
    "\n",
    "m, n, k = symbols('m n k', positive=true, integers=true)\n",
    "\n",
    "F = Function('F')\n",
    "expr = k / (m * n + k) * binomial((m * n + k), n)\n",
    "catalan = Eq(F(n, k, m), expr)\n",
    "Generalized_Catalan = Lambda([n, k, m], expr)\n",
    "catalan\n"
   ]
  },
  {
   "cell_type": "markdown",
   "metadata": {},
   "source": [
    "Eseguiamo ora la funione Generalized_Catalan(n, k, m) per $k=1$ e $m=2$, e ci aspettiamo che i numeri generati dalla funzione corrispondano ai valori noti di Catalan citati sopra:"
   ]
  },
  {
   "cell_type": "code",
   "execution_count": 51,
   "metadata": {},
   "outputs": [
    {
     "data": {
      "image/png": "[encoded data removed]",
      "text/latex": [
       "$$\\left [ \\left ( 1, \\quad 1\\right ), \\quad \\left ( 2, \\quad 2\\right ), \\quad \\left ( 3, \\quad 5\\right ), \\quad \\left ( 4, \\quad 14\\right ), \\quad \\left ( 5, \\quad 42\\right ), \\quad \\left ( 6, \\quad 132\\right ), \\quad \\left ( 7, \\quad 429\\right ), \\quad \\left ( 8, \\quad 1430\\right ), \\quad \\left ( 9, \\quad 4862\\right ), \\quad \\left ( 10, \\quad 16796\\right )\\right ]$$"
      ],
      "text/plain": [
       "[(1, 1), (2, 2), (3, 5), (4, 14), (5, 42), (6, 132), (7, 429), (8, 1430), (9, \n",
       "4862), (10, 16796)]"
      ]
     },
     "execution_count": 51,
     "metadata": {},
     "output_type": "execute_result"
    }
   ],
   "source": [
    "k = 1\n",
    "m = 2\n",
    "[(n, Generalized_Catalan(n, k, m).doit()) for n in range(1, 11)]\n"
   ]
  },
  {
   "cell_type": "markdown",
   "metadata": {},
   "source": [
    "Come è evidente i valori ottenuti corrispondono al risultato desiderato. Dunque abbiamo verificato la correttezza delle generalizzazioni introdotte. \n",
    "\n",
    "Prima di proseguire, implementiamo un semplice metodo per la verifica della primalità di un numero. Questo metodo, che chiameremo 'isPrime()', prende in input una tupla di interi positivi e restituisce solo quelli che risultano primi tra quelli della tupla. Il metodo ci sarà utile in seguito per verificare la primalità dei numeri generati dalle funzioni in esame."
   ]
  },
  {
   "cell_type": "code",
   "execution_count": 52,
   "metadata": {},
   "outputs": [],
   "source": [
    "def isPrime(nums):\n",
    "    i = len(nums)\n",
    "    result = []\n",
    "    for index in range(0, i):\n",
    "        for n in range(2, nums[index]):\n",
    "            if nums[index] % n == 0:\n",
    "                nums[index] = -1\n",
    "    for j in range(0, i):\n",
    "        if nums[j] != -1:\n",
    "            result = result + [nums[j]]\n",
    "    print result\n"
   ]
  },
  {
   "cell_type": "markdown",
   "metadata": {},
   "source": [
    "Il metodo suddetto è stato implementato sfruttando l'operatore modulo $n$ di un numero. Infatti un numero $n$ è primo se e soltanto se il resto dato dalla divisione intera tra $n$ e ogni altro numero (intero) compreso tra 2 ed $n$ risulta $0$, cioè in altre parole se e soltanto se $n$ è divisibile solo per se stesso e per 1. Questo è esattamente ciò che si è implementato utilizzando due cicli for, uno per scorrere la tupla di input, e uno per reiterare l'operazione modulo $n$ per tutti i numeri compresi tra $2$ ed $n$.\n",
    "\n",
    "Verifichiamo l'attendibilità del metodo passandogli in input la tupla generata in precedenza dei numeri di Catalan."
   ]
  },
  {
   "cell_type": "code",
   "execution_count": 53,
   "metadata": {},
   "outputs": [
    {
     "name": "stdout",
     "output_type": "stream",
     "text": [
      "[1, 2, 5]\n"
     ]
    }
   ],
   "source": [
    "isPrime([Generalized_Catalan(n, k, m).doit() for n in range(1, 9)])"
   ]
  },
  {
   "cell_type": "markdown",
   "metadata": {},
   "source": [
    "La funzione restituisce i numeri primi (2 e 17) tra i primi otto numeri generati dalla funzione di Catalan. Facendo qualche esperimento è facile vedere come la funzione restituisce errore per numeri relativamente grandi. Come ci si aspetterebbe infatti, con la funzione di Catalan è facile generare velocemente numeri che raggiungono il limite superiore del massimo intero rappresentabile dal calcolatore.\n",
    "\n",
    "Mostriamo ora un teorema che costituisce il risultato principale ottenuto sulla primalità dei numeri di Fuss-Catalan generalizzati."
   ]
  },
  {
   "cell_type": "markdown",
   "metadata": {},
   "source": [
    "# Teorema 1\n",
    "Siano definiti i numeri di Fuss-Catalan generalizzati $F_{m}(n, k)$ con $m\\geq 2$ e $n, k\\geq 1$. Allora il generico numero $F_{m}(n, k)$ non è primo ad eccezione dei seguenti casi:\n",
    "\n",
    "a) per $n\\geq 3$ l'unico numero primo della forma $F_{m}(n, k)$ é $F_{2}(3, 1)=5$;\n",
    "\n",
    "b) per $n=2$, $F_{p}(2, 1)=p$, dove $p$ è primo, e $F_{m}(2, 2)=2m+1$ quando $m=(p-1)/2$ e $p$ è primo;\n",
    "\n",
    "c) per $n=1$, $F_{m}(1, k)=k$, dove $k$ è primo.\n",
    "\n",
    "# dimostrazione:\n",
    "Separiamo da dimostrazione in tre casi: caso a) $n\\geq 3$, caso b) $n=2$ e caso c) $n=1$.\n",
    "\n",
    "# a (caso $n\\geq 3$)\n",
    "\n",
    "Innanzitutto, facciamo vedere che per $n\\geq 3$, $F_{m}(n,k)$ non è primo tranne che per $F_2(3,1)=5$. Abbiamo: \n",
    "\n",
    "$$F_m(n,k)=\\frac{k}{(m-1)n+k}\\binom{mn+k-1}{n}$$ \n",
    "$$= \\frac{k}{(m-1)n+k}\\frac{mn+k-1}{n}\\frac{mn+k-2}{n-1}\\cdots \n",
    "\\frac{mn+k-(n-1)}{2}\\frac{mn+k-n}{1}$$\n",
    "$$= k\\frac{mn+k-1}{n}\\frac{mn+k-2}{n-1}\\cdots \\frac{mn+k-(n-2)}{3}\\frac{mn+k-(n-1)}{2}$$\n",
    "\n",
    "Dato che $m\\geq 2$, $n\\geq 3$, e $k\\geq 1$, allora si ha che:\n",
    "\n",
    "$$\\frac{mn+k-1}{n}, \\frac{mn+k-2}{n-1}, \\ldots, \\frac{mn+k-(n-3)}{4} >1 $$\n",
    "e\n",
    "$$\\frac{mn+k-(n-2)}{3}\\geq 2$$\n",
    "\n",
    "osservando che $m\\geq 2$, e combinando le suddette stime, si ricava: \n",
    "\n",
    "$$F_m(n,k)>k((m-1)n+k+1)\\geq mn+k-1$$\n",
    "per $k\\geq 2$. Quindi, \n",
    "\n",
    "$$F_m(n,k)>mn+k-1$$\n",
    "\n",
    "per $m\\geq 2$, $n\\geq 3$ e $k\\geq 2$. Per verificare numericamente la correttezza di quest'ultima disuguaglianza possiamo eseguire la funzione Generalized_catalan(n, k, m) implementata prima in sympy. Se il risultato che otteniamo soddisfa la disuguaglianza, cioè i numeri generati risultano $\\geq mn+k-1$ allora, a maggior ragione, la funzione dovrebbe restituire valori soddisfacenti all'aumentare del valore dei parametri in input. In altre parole, eseguiamo la funzione che calcola i numeri di Fuss-Catalan generalizzati a partire da $n=3, m=2, k=1$ e poi con valori crescenti via via (10 valori successivi), verifichiamo che questi soddisfino la condizione $\\geq mn+k-1$. Per far ciò abbiamo implementato il metodo seguente:"
   ]
  },
  {
   "cell_type": "code",
   "execution_count": 54,
   "metadata": {},
   "outputs": [
    {
     "data": {
      "image/png": "[encoded data removed]",
      "text/latex": [
       "$$\\mathrm{True}$$"
      ],
      "text/plain": [
       "True"
      ]
     },
     "execution_count": 54,
     "metadata": {},
     "output_type": "execute_result"
    }
   ],
   "source": [
    "def is_true():\n",
    "    for k in range (2, 12):\n",
    "        for m in range (2, 12):\n",
    "            for n in range (3, 13):\n",
    "                if Generalized_Catalan(n, k, m).doit() <= ((m*n) + k - 1):\n",
    "                    return false\n",
    "    return true\n",
    "is_true()\n"
   ]
  },
  {
   "cell_type": "markdown",
   "metadata": {},
   "source": [
    "Il metodo restituisce true, dunque la disuguaglianza è verificata. Ovviamente questa verifica numerica, così come quelle che seguiranno da quì in poi, non costituisce una vera e propria dimostrazione matematica. Infatti sperimentalmente è arduo dimostrare le suddette relazioni sui numeri primi per via numerica, a causa delle limitazioni dovute alla precisione di macchina finita e non solo. Per questo motivo le verifiche numeriche in sympy sono da considerare come prove empiriche a sostegno della dimostrazione matematica teorica.\n",
    "\n",
    "Proseguiamo la dimostrazione notando che ogni fattore primo di $F_m(n,k)$ è minore o uguale a $mn+k-1$ poiché ciascun fattore di $F_m(n,k)$ deve essere un fattore del numeratore nella definizione di $F_m(n,k)$. Quindi, se $F_m(n,k)$ fosse primo, avremmo che $F_m(n,k) \\leq mn+k-1$, che contraddice la relazione $F_m(n,k)>mn+k-1$. Dunque, $F_m(n,k)$ è un numero composito.\n",
    "\n",
    "Abbiamo finito di trattare il sotto-caso di (a) dove $n\\geq 3$ e $k\\geq 2$, e ora consideriamo il sotto-caso di $n\\geq 3$ e $k=1$, ad esempio, il caso di: \n",
    "\n",
    "$$F_m(n,1)=\\frac{1}{(m-1)n+1}\\binom{mn}{n}$$\n",
    "Se $n=3$, allora la precedente diventa:\n",
    "$$F_m(3,1)=\\frac{1}{3m-2}\\binom{3m}{3}=\\frac{m(3m-1)}{2}$$\n",
    "\n",
    "Se $m=2\\ell +1$, con $\\ell \\geq 1$, cioè $m$ è dispari, allora l'equazione suddetta implica che $F_{2\\ell+1}(3,1)=(2\\ell+1)(3\\ell+1)$ non è un numero primo. Infatti: "
   ]
  },
  {
   "cell_type": "code",
   "execution_count": 55,
   "metadata": {},
   "outputs": [
    {
     "data": {
      "image/png": "[encoded data removed]",
      "text/latex": [
       "$$54626$$"
      ],
      "text/plain": [
       "54626"
      ]
     },
     "execution_count": 55,
     "metadata": {},
     "output_type": "execute_result"
    }
   ],
   "source": [
    "import random\n",
    "\n",
    "l = random.randint(1,100)             #generiamo l casualmente\n",
    "n = 3\n",
    "k = 1\n",
    "m = (2 * l) + 1                       #m dispari\n",
    "Generalized_Catalan(n, k, m).doit()\n"
   ]
  },
  {
   "cell_type": "markdown",
   "metadata": {},
   "source": [
    "eseguendo la funzione che genera numeri di fuss-catalan generalizzati della forma $F_{2\\ell+1}(3,1)$ con $\\ell$ generato casualmente, otteniamo un numero non primo. Infatti verificando la primalità con il metodo isPrime() implementato prima, otteniamo una tupla vuota:"
   ]
  },
  {
   "cell_type": "code",
   "execution_count": 56,
   "metadata": {},
   "outputs": [
    {
     "name": "stdout",
     "output_type": "stream",
     "text": [
      "[]\n"
     ]
    }
   ],
   "source": [
    "isPrime([Generalized_Catalan(n, k, m).doit()])"
   ]
  },
  {
   "cell_type": "markdown",
   "metadata": {},
   "source": [
    "Se invece $m=2\\ell$, con $\\ell\\geq 1$ è pari, allora sempre l'equazione suddetta implica che $F_{2\\ell}(3,1)=\\ell (6\\ell -1)$ non è un numero primo a meno di $\\ell=1$. Come prima, facciamo la stessa verifica in sympy utilizzando questa volta un $m$ pari e un $\\ell$ maggiore di uno. Otteniamo: "
   ]
  },
  {
   "cell_type": "code",
   "execution_count": 57,
   "metadata": {},
   "outputs": [
    {
     "data": {
      "image/png": "[encoded data removed]",
      "text/latex": [
       "$$3151$$"
      ],
      "text/plain": [
       "3151"
      ]
     },
     "execution_count": 57,
     "metadata": {},
     "output_type": "execute_result"
    }
   ],
   "source": [
    "l = random.randint(2,100)             #generiamo l casualmente\n",
    "n = 3\n",
    "k = 1\n",
    "m = 2 * l                             #m pari\n",
    "Generalized_Catalan(n, k, m).doit()\n"
   ]
  },
  {
   "cell_type": "markdown",
   "metadata": {},
   "source": [
    "il risultato é ancora un numero non primo. Infatti:"
   ]
  },
  {
   "cell_type": "code",
   "execution_count": 58,
   "metadata": {},
   "outputs": [
    {
     "name": "stdout",
     "output_type": "stream",
     "text": [
      "[]\n"
     ]
    }
   ],
   "source": [
    "isPrime([Generalized_Catalan(n, k, m).doit()])"
   ]
  },
  {
   "cell_type": "markdown",
   "metadata": {},
   "source": [
    "Proviamo ora con $\\ell = 1$. "
   ]
  },
  {
   "cell_type": "code",
   "execution_count": 59,
   "metadata": {},
   "outputs": [
    {
     "data": {
      "image/png": "[encoded data removed]",
      "text/latex": [
       "$$5$$"
      ],
      "text/plain": [
       "5"
      ]
     },
     "execution_count": 59,
     "metadata": {},
     "output_type": "execute_result"
    }
   ],
   "source": [
    "l = 1\n",
    "n = 3\n",
    "k = 1\n",
    "m = 2 * l                             \n",
    "Generalized_Catalan(n, k, m).doit()\n"
   ]
  },
  {
   "cell_type": "markdown",
   "metadata": {},
   "source": [
    "Il risultato è 5 che, essendo primo, è ciò che ci aspettavamo visto quanto detto precedentemente.\n",
    "\n",
    "Quindi, $F_2(3,1)=5$ risulta l'unico numero primo per $m\\geq 2$ e $n=3$. L'ultimo passo finale di (a) che non è stato ancora considerato è $n\\geq 4$ e $k=1$. Similmente a quanto fatto per il primo sotto-caso, scriviamo $F_m(n,1)$ come:\n",
    "\n",
    "$$F_m(n,1)=\\frac{1}{(m-1)n+1}\\binom{mn}{n}$$\n",
    "$$=\\frac{1}{(m-1)n+1}\\frac{mn}{n}\\frac{mn-1}{n-1}\\cdots \\frac{mn-(n-3)}{3}\\frac{mn-(n-2)}{2}\\frac{mn-(n-1)}{1}$$\n",
    "$$=\\frac{mn}{n}\\frac{mn-1}{n-1}\\cdots \\frac{mn-(n-4)}{4}\\frac{mn-(n-3)}{3}\\frac{mn-(n-2)}{2}$$\n",
    "$$> \\frac{mn-(n-4)}{4}\\frac{mn-(n-3)}{3}\\frac{mn-(n-2)}{2}$$\n",
    "$$\\geq 2 \\frac{7}{3}\\frac{mn-(n-2)}{2}$$\n",
    "$$> 2(mn-(n-2)) > mn$$\n",
    "\n",
    "dove abbiamo usato $n\\geq 4$ e $m\\geq 2$ cosicché $mn-(n-4)/4\\geq 2$ e $(mn-(n-3)/3\\geq 7/3$, e quest'ultima disuguaglianza è dovuta al fatto che $m\\geq 2$. Quindi, $F_m(n,1)$ non è primo quando $n\\geq 4$. Questo conclude la dimostrazione del caso (a). "
   ]
  },
  {
   "cell_type": "markdown",
   "metadata": {},
   "source": [
    "# b (caso $n=2$)\n",
    "\n",
    "Sotto l'assunzione che $n=2$, si ha che:\n",
    "\n",
    "$$ F_{m}(2, k) = \\frac{k}{2(m-1)+k}\\binom{2m+k-1}{2} = \\frac{k(2m+k-1)}{2} $$\n",
    "\n",
    "Dunque dato $p$ un numero primo, se $k=1$ e $m=p$, allora $F_m(2,k)=p$ è primo. Questo è abbastanza evidente, perché se si sostituiscono $k$ ed $m$ nella precedente relazione si ottiene banalmente $p$. Vediamo cosa succede ora se invece $k\\neq 1$: \n",
    "\n",
    "$k$ può essere pari, quindi $k=2l$ con $l\\geq 1$, oppure dispari, ovvero $k=2l+1$. Nel primo caso si vede facilmente che l'unica eventualità in cui $F_m(2,2l)$ è primo occorre quando $l=1$ e $2m+1$ è primo, poiché:\n",
    "\n",
    "$$F_m(2,2l) = l(2m+2l-1)$$\n",
    "\n",
    "Nel secondo caso invece, sostituendo $k$ con $2l+1$, abbiamo che:\n",
    "\n",
    "$$F_m(2, 2l+1) = (2l+1)(m+l)$$\n",
    "\n",
    "che non è un numero primo in nessun caso. Quindi b) è dimostrato.\n",
    "\n",
    "Come abbiamo fatto anche prima, senza riscrivere la funzione $F_m(2,k)$ in sympy, sfruttiamo la funzione Generalized_Catalan(n, k, m) per verificare la veridicità del teorema nel caso $k=2l+1$, per un numero limitato di iterazioni."
   ]
  },
  {
   "cell_type": "code",
   "execution_count": 60,
   "metadata": {
    "scrolled": true
   },
   "outputs": [
    {
     "data": {
      "image/png": "[encoded data removed]",
      "text/latex": [
       "$$\\left [ 45, \\quad 70, \\quad 99, \\quad 132, \\quad 169, \\quad 210, \\quad 255, \\quad 304, \\quad 357, \\quad 414, \\quad 475, \\quad 540, \\quad 609, \\quad 682, \\quad 759, \\quad 840, \\quad 925, \\quad 1014\\right ]$$"
      ],
      "text/plain": [
       "[45, 70, 99, 132, 169, 210, 255, 304, 357, 414, 475, 540, 609, 682, 759, 840, \n",
       "925, 1014]"
      ]
     },
     "execution_count": 60,
     "metadata": {},
     "output_type": "execute_result"
    }
   ],
   "source": [
    "temp = []\n",
    "n = 2\n",
    "m = 7                                                   #numero primo scelto casualmente\n",
    "for i in range(2, 20):                                  #per ogni i > 1\n",
    "    k = 2 * i + 1                                       #assegna a k il numero dispari (2i + 1)\n",
    "    temp = temp + [Generalized_Catalan(n, k, m).doit()] #esegue la funzione con k ed m in input...\n",
    "temp                                                    #...e li memorizza nella tupla temp\n"
   ]
  },
  {
   "cell_type": "markdown",
   "metadata": {},
   "source": [
    "Come si nota, per la nostra verifica abbiamo scelto un numero primo a caso ($m=7$) ed eseguito la funzione di Fuss-Catalan generalizzata $F_7(2, 2i+1)$ per diciotto volte, ovvero per $i$ che va da 2 a 20, ottenendo sempre numeri non primi. Infatti passando in input questi numeri alla funzione isPrime() si ottiene una tupla vuota:"
   ]
  },
  {
   "cell_type": "code",
   "execution_count": 61,
   "metadata": {},
   "outputs": [
    {
     "name": "stdout",
     "output_type": "stream",
     "text": [
      "[]\n"
     ]
    }
   ],
   "source": [
    "isPrime(temp)"
   ]
  },
  {
   "cell_type": "markdown",
   "metadata": {},
   "source": [
    "Questo esperimento avvalora quanto dimostrato prima per via matematica."
   ]
  },
  {
   "cell_type": "markdown",
   "metadata": {},
   "source": [
    "# c (caso $n=1$)\n",
    "\n",
    "Quando $n=1$ si ha che:\n",
    "\n",
    "$$F_m(1,k) = \\frac{k}{m-1+k}\\binom{m-1+k}{1} = k$$\n",
    "\n",
    "e quindi $F_m$ è primo esattamente quando $k$ è primo. Questo completa la dimostrazione del teorema. Anche in questo caso possiamo verificare il risultato con sympy. Similmente a prima, eseguiamo la funzione Generalized_Catalan per ogni $m$ che va da $2$ a $12$, con $k=5$ (numero primo scelto casualmente)."
   ]
  },
  {
   "cell_type": "code",
   "execution_count": 62,
   "metadata": {},
   "outputs": [
    {
     "name": "stdout",
     "output_type": "stream",
     "text": [
      "[2, 5]\n",
      "[3, 5]\n",
      "[4, 5]\n",
      "[5, 5]\n",
      "[6, 5]\n",
      "[7, 5]\n",
      "[8, 5]\n",
      "[9, 5]\n",
      "[10, 5]\n",
      "[11, 5]\n"
     ]
    }
   ],
   "source": [
    "k = 5\n",
    "n = 1\n",
    "for i in range(2, 12):\n",
    "    m = i\n",
    "    print [i, Generalized_Catalan(n, k, m).doit()]\n",
    "    "
   ]
  },
  {
   "cell_type": "markdown",
   "metadata": {},
   "source": [
    "Come ci saremmo aspettati abbiamo ottenuto per dieci volte numeri di fuss-catalan pari a 5, che è esattamente il $k$ scelto inizialmente. Questo conferma quanto dimostrato. Seguono due corollari."
   ]
  },
  {
   "cell_type": "markdown",
   "metadata": {},
   "source": [
    "# Corollario 2\n",
    "\n",
    "Siano $F_m(n,1)$ i numeri di Fuss-Catalan come definiti all'inizio del notebook. Allora nessuno di questi è primo eccetto che $F_p(2,1)=p$, dove $p$ è primo, e $F_2(3,1)=5$.\n"
   ]
  },
  {
   "cell_type": "markdown",
   "metadata": {},
   "source": [
    "# Corollario 3\n",
    "\n",
    "I numeri di Catalan $C_n$ non sono primi, eccezion fatta per $C_2=2$ e $C_3=5$.\n",
    "\n"
   ]
  },
  {
   "cell_type": "markdown",
   "metadata": {},
   "source": [
    "# Numeri di Lobb\n",
    "\n",
    "I numeri di Lobb sono definiti in questo modo:\n",
    "\n",
    "$$L_{n, m} = \\frac{2m+1}{n+m+1}\\binom{2n}{n+m}$$\n",
    "\n",
    "per $n\\geq m \\geq 0$. Questi numeri si possono interpretare così: $L_{n, m}$ è il numero delle sequenze di lunghezza $2n$ dove $n+m$ termini sono uguali a 1 e $n-m$ termini sono pari a -1, cosicché nessuna somma parziale risulti negativa. Questi numeri possono essere generalizzati in modo tale che il numero di sequenze con termini uguali a 1 sono $(k-1)n+m$, ed $n-m$ termini sono uguali a $1-k$. La versione generalizzata dei numeri di Lobb si indica con $L^{k}_{n, m}$ e ha la forma:\n",
    "\n",
    "$$L^{k}_{n, m} = \\frac{km+1}{(k-1)n+m+1}\\binom{kn}{(k-1)n+m}$$\n",
    "\n",
    "Scriviamo la funzione che genera questi numeri in sympy, ed in seguito deduciamo alcune proprietà."
   ]
  },
  {
   "cell_type": "code",
   "execution_count": 63,
   "metadata": {},
   "outputs": [
    {
     "data": {
      "image/png": "[encoded data removed]",
      "text/latex": [
       "$$L{\\left (k,n,m \\right )} = \\frac{\\left(k m + 1\\right) {\\binom{k n}{m + n \\left(k - 1\\right)}}}{m + n \\left(k - 1\\right) + 1}$$"
      ],
      "text/plain": [
       "                       ⎛     k⋅n     ⎞\n",
       "             (k⋅m + 1)⋅⎜             ⎟\n",
       "                       ⎝m + n⋅(k - 1)⎠\n",
       "L(k, n, m) = ─────────────────────────\n",
       "                 m + n⋅(k - 1) + 1    "
      ]
     },
     "execution_count": 63,
     "metadata": {},
     "output_type": "execute_result"
    }
   ],
   "source": [
    "m, n, k = symbols('m n k', positive=true, integers=true)\n",
    "\n",
    "L = Function('L')\n",
    "expr = ((k * m + 1) / ((k - 1) * n + m + 1)) * binomial((k * n), (k - 1) * n + m)\n",
    "lobb = Eq(L(k, n, m), expr)\n",
    "Generalized_Lobb = Lambda([k, n, m], expr)\n",
    "lobb\n"
   ]
  },
  {
   "cell_type": "markdown",
   "metadata": {},
   "source": [
    "La caratteristica particolare di questi numeri risiede nel fatto che essi includono molte altre sequenze di numeri come sotto-casi. Ad esempio è evidente che se $k=2$, i numeri $L^{2}_{n, m}$ corrispondono ai numeri di Lobb classici. E ancora, quando $m=0$, questi numeri diventano i numeri di Fuss-Catalan, infatti:\n",
    "\n",
    "$$ L^{k}_{n, 0} = \\frac{1}{(k-1)n+1}\\binom{kn}{n}= F_k(n)$$\n",
    "\n",
    "Per verificare numericamente quanto affermato confrontiamo gli output delle due funzioni (generalizzata di Lobb e di Fuss-Catalan) e vediamo se sono uguali tra loro. Di seguito sono mostrati gli output relativi numeri generati rispettivamente con la funzione di Fuss-Catalan e con la generalizzata di Lobb. "
   ]
  },
  {
   "cell_type": "code",
   "execution_count": 64,
   "metadata": {},
   "outputs": [
    {
     "data": {
      "image/png": "[encoded data removed]",
      "text/latex": [
       "$$\\left [ 1, \\quad 1, \\quad 1, \\quad 1, \\quad 1, \\quad 1, \\quad 2, \\quad 5, \\quad 14, \\quad 42, \\quad 1, \\quad 3, \\quad 12, \\quad 55, \\quad 273, \\quad 1, \\quad 4, \\quad 22, \\quad 140, \\quad 969, \\quad 1, \\quad 5, \\quad 35, \\quad 285, \\quad 2530\\right ]$$"
      ],
      "text/plain": [
       "[1, 1, 1, 1, 1, 1, 2, 5, 14, 42, 1, 3, 12, 55, 273, 1, 4, 22, 140, 969, 1, 5, \n",
       "35, 285, 2530]"
      ]
     },
     "execution_count": 64,
     "metadata": {},
     "output_type": "execute_result"
    }
   ],
   "source": [
    "result = []\n",
    "k = 1 \n",
    "for m in range(1, 6):\n",
    "    for n in range(1, 6):\n",
    "        result = result + [Generalized_Catalan(n, k, m).doit()]\n",
    "result\n"
   ]
  },
  {
   "cell_type": "code",
   "execution_count": 65,
   "metadata": {},
   "outputs": [
    {
     "data": {
      "image/png": "[encoded data removed]",
      "text/latex": [
       "$$\\left [ 1, \\quad 1, \\quad 1, \\quad 1, \\quad 1, \\quad 1, \\quad 2, \\quad 5, \\quad 14, \\quad 42, \\quad 1, \\quad 3, \\quad 12, \\quad 55, \\quad 273, \\quad 1, \\quad 4, \\quad 22, \\quad 140, \\quad 969, \\quad 1, \\quad 5, \\quad 35, \\quad 285, \\quad 2530\\right ]$$"
      ],
      "text/plain": [
       "[1, 1, 1, 1, 1, 1, 2, 5, 14, 42, 1, 3, 12, 55, 273, 1, 4, 22, 140, 969, 1, 5, \n",
       "35, 285, 2530]"
      ]
     },
     "execution_count": 65,
     "metadata": {},
     "output_type": "execute_result"
    }
   ],
   "source": [
    "result = []\n",
    "m = 0\n",
    "for k in range(1, 6):\n",
    "    for n in range(1, 6):\n",
    "        result = result + [Generalized_Lobb(k, n, m).doit()]\n",
    "result\n"
   ]
  },
  {
   "cell_type": "markdown",
   "metadata": {},
   "source": [
    "Come si può osservare gli output corrispondono, quindi quanto detto prima è verificato, cioè per $m=0$ la funzione generalizzata di Lobb corrisponde quella di Fuss-Catalan. Notiamo che nel codice implementato per generare i numeri di Fuss-Catalan abbiamo posto $k=1$. Questo perché inizialmente avevamo già implementato la funzione Generalized_Catalan(n, k, m) che genera numeri di Fuss-Catalan generalizzati e, come spiegato all'inizio, questa corrisponde alla funzione che genera numeri di Fuss-Catalan proprio per $k=1$."
   ]
  },
  {
   "cell_type": "markdown",
   "metadata": {},
   "source": [
    "Proseguendo ora la discussione sulle caratteristiche dei numeri di Lobb, vediamo che per $k=2$ ed $m=0$ i numeri di Lobb corrispondono esattamente ai numeri di Catalan classici. Come prima, possiamo fare una verifica numerica e osservare se gli output delle due funzioni in esame corrispondono. Chiaramente, ricordando che la funzione generatrice dei numeri di Fuss-Catalan generalizzati genera numeri di Catalan classici per $k=1$ e $m=2$, confrontiamo gli output sulla base del codice implementato seguente:"
   ]
  },
  {
   "cell_type": "code",
   "execution_count": 66,
   "metadata": {},
   "outputs": [
    {
     "data": {
      "image/png": "[encoded data removed]",
      "text/latex": [
       "$$\\left [ 1, \\quad 2, \\quad 5, \\quad 14, \\quad 42, \\quad 132, \\quad 429, \\quad 1430, \\quad 4862, \\quad 16796, \\quad 58786, \\quad 208012, \\quad 742900, \\quad 2674440, \\quad 9694845\\right ]$$"
      ],
      "text/plain": [
       "[1, 2, 5, 14, 42, 132, 429, 1430, 4862, 16796, 58786, 208012, 742900, 2674440,\n",
       " 9694845]"
      ]
     },
     "execution_count": 66,
     "metadata": {},
     "output_type": "execute_result"
    }
   ],
   "source": [
    "result = []\n",
    "k = 1\n",
    "m = 2\n",
    "for n in range(1, 16):\n",
    "    result = result + [Generalized_Catalan(n, k, m).doit()]\n",
    "result\n"
   ]
  },
  {
   "cell_type": "code",
   "execution_count": 67,
   "metadata": {},
   "outputs": [
    {
     "data": {
      "image/png": "[encoded data removed]",
      "text/latex": [
       "$$\\left [ 1, \\quad 2, \\quad 5, \\quad 14, \\quad 42, \\quad 132, \\quad 429, \\quad 1430, \\quad 4862, \\quad 16796, \\quad 58786, \\quad 208012, \\quad 742900, \\quad 2674440, \\quad 9694845\\right ]$$"
      ],
      "text/plain": [
       "[1, 2, 5, 14, 42, 132, 429, 1430, 4862, 16796, 58786, 208012, 742900, 2674440,\n",
       " 9694845]"
      ]
     },
     "execution_count": 67,
     "metadata": {},
     "output_type": "execute_result"
    }
   ],
   "source": [
    "result = []\n",
    "k = 2\n",
    "m = 0\n",
    "for n in range(1, 16):\n",
    "    result = result + [Generalized_Lobb(k, n, m).doit()]\n",
    "result\n"
   ]
  },
  {
   "cell_type": "markdown",
   "metadata": {},
   "source": [
    "I due output corrispondono, quindi abbiamo ottenuto il risultato desiderato.\n",
    "\n",
    "Un'altra caratteristica dei numeri di Lobb è che per $k = 1$ questi numeri corrispondono esattamente ai coefficienti binomiali. Vi sono inoltre molti altri casi particolari di questi numeri, ma esulano dallo scopo di questo notebook."
   ]
  },
  {
   "cell_type": "markdown",
   "metadata": {},
   "source": [
    "Analizziamo ora un interessante analogia tra i numeri di Lobb e i numeri di Fuss-Catalan generalizzati. In effetti, data F la funzione di Fuss-Catalan generalizzata, vale la seguente relazione: \n",
    "\n",
    "$$L^k_{n,m}=F_k(n-m, km +1)$$\n",
    "\n",
    "oppure, invertendo la relazione:\n",
    "\n",
    "$$F_m(n, k) = L^m_{n+(k-1)/m, (k-1)/m} $$\n",
    "\n",
    "dove quest'ultima può essere utilizzata per trasferire i risultati ottenuti dal Teorema 1 (per i numeri di Fuss-Catalan generalizzati) ai corrispondenti risultati per i numeri di Lobb generalizzati. In effetti, volendo verificare numericamente la suddetta relazione, si può far vedere come è possibile ottenere il medesimo risultato dall'esecuzione delle due funzioni per $k, m, n$ fissati:"
   ]
  },
  {
   "cell_type": "code",
   "execution_count": 68,
   "metadata": {},
   "outputs": [
    {
     "name": "stdout",
     "output_type": "stream",
     "text": [
      "Risultato Lobb gen. :\n",
      "75\n",
      "Risultato F-Catalan gen. :\n",
      "75\n"
     ]
    }
   ],
   "source": [
    "m, n, k = symbols('m n k', positive=true, integers=true)\n",
    "\n",
    "k = 5   #parametri fissati, scelti casualmente\n",
    "m = 2\n",
    "n = 3\n",
    "\n",
    "i = n + (k - 1)/m\n",
    "j = (k - 1)/m\n",
    "\n",
    "print 'Risultato Lobb gen. :'\n",
    "print Generalized_Lobb(m, int(i), int(j)).doit()\n",
    "print 'Risultato F-Catalan gen. :'\n",
    "print Generalized_Catalan(n, k, m).doit()\n"
   ]
  },
  {
   "cell_type": "markdown",
   "metadata": {},
   "source": [
    "Alla luce di questo risultato quindi enunciamo il seguente corollario."
   ]
  },
  {
   "cell_type": "markdown",
   "metadata": {},
   "source": [
    "# Corollario 4\n",
    "\n",
    "Dati $m\\geq 2$ e $n,k\\geq 1$ interi, gli unici numeri di Lobb generalizzati che risultano primi sono $L^m_{1+(k-1)/m,(k-1)/m}=k$, dove $k$ è primo, $L^p_{2,0}=p$, dove $p$ è primo, $L^2_{3,0}=5$, e $L^m_{2+1/m,1/m}=2m+1$, dove $m=(p-1)/2$ e $p$ è primo.\n",
    "\n",
    "Omettiamo la dimostriazione matematica di questo Corollario, ma proviamo comunque a eseguire il test di primalità sui numeri di Lobb generalizzati utilizzando il nostro metodo isPrime(). Generiamo quindi alcuni numeri con la funzione di Lobb generalizzata e li passiamo in input a isPrime()."
   ]
  },
  {
   "cell_type": "code",
   "execution_count": 69,
   "metadata": {},
   "outputs": [
    {
     "data": {
      "image/png": "[encoded data removed]",
      "text/latex": [
       "$$\\left [ 13, \\quad 117, \\quad 910, \\quad 6578, \\quad 45630\\right ]$$"
      ],
      "text/plain": [
       "[13, 117, 910, 6578, 45630]"
      ]
     },
     "execution_count": 69,
     "metadata": {},
     "output_type": "execute_result"
    }
   ],
   "source": [
    "temp = []\n",
    "j = 4                    # (parametri i e j scelti casualmente)\n",
    "m = 3\n",
    "for i in range(5, 10):\n",
    "    temp = temp + [Generalized_Lobb(m, i, j).doit()]\n",
    "temp\n"
   ]
  },
  {
   "cell_type": "code",
   "execution_count": 70,
   "metadata": {},
   "outputs": [
    {
     "name": "stdout",
     "output_type": "stream",
     "text": [
      "[13]\n"
     ]
    }
   ],
   "source": [
    "isPrime(temp)"
   ]
  },
  {
   "cell_type": "markdown",
   "metadata": {},
   "source": [
    "Abbiamo generato 5 numeri di Lobb generalizzati con parametri di input scelti casualmente. Siamo stati fortunati, poiché siamo riusciti a ottenere un numero primo. In effetti, dalla tesi del corollario si evince che ci troviamo nel primo caso, in cui $L^m_{1+(k-1)/m,(k-1)/m}=k$, dove $k=13$ (che è primo) nel nostro caso. Per verificarlo basta osservare che nel codice implementato abbiamo indicato con $i$ e $j$ rispettivamente i parametri $n$ ed $m$ della funzione originaria, ovvero abbiamo eseguito la funzione $L^m_{i, j}$, con $i = 1+(k-1)/m$,  e  $j=(k-1)/m$. Facendo le opportune sostituzioni è facile verificare la correttezza del risultato ottenuto. "
   ]
  },
  {
   "cell_type": "markdown",
   "metadata": {},
   "source": [
    "# Ballot numbers\n",
    "\n",
    "I numeri di Lobb della forma $L^2_{n,m}$ sono in relazione anche con i ballot numbers. Questi sono della forma:\n",
    "\n",
    "$$B(a,b) = \\frac{a-b}{a+b}\\binom{a+b}{a} = \\frac{a-b}{a+b}\\binom{a+b}{b}$$\n",
    "\n",
    "Nominalmente, vale la seguente relazione:\n",
    "\n",
    "$$L^2_{n,m}=B(n+m+1, n-m)$$\n",
    "\n",
    "o, equivalentemente:\n",
    "\n",
    "$$B(n,m)= L^2_{\\frac{n+m-1}{2},\\frac{n-m-1}{2}}$$\n",
    "\n",
    "Per verificare numericamente questa relazione, come prima confronteremo gli output delle due funzioni e osserveremo se sono esattamente uguali. Innanzitutto scriviamo il codice che implementa la funzione generatrice dei ballot numbers."
   ]
  },
  {
   "cell_type": "code",
   "execution_count": 71,
   "metadata": {},
   "outputs": [
    {
     "data": {
      "image/png": "[encoded data removed]",
      "text/latex": [
       "$$B{\\left (a,b \\right )} = \\frac{\\left(a - b\\right) {\\binom{a + b}{b}}}{a + b}$$"
      ],
      "text/plain": [
       "                  ⎛a + b⎞\n",
       "          (a - b)⋅⎜     ⎟\n",
       "                  ⎝  b  ⎠\n",
       "B(a, b) = ───────────────\n",
       "               a + b     "
      ]
     },
     "execution_count": 71,
     "metadata": {},
     "output_type": "execute_result"
    }
   ],
   "source": [
    "a, b = symbols('a b', positive=true, integers=true)\n",
    "\n",
    "B = Function('B')\n",
    "expr = ((a - b) / (a + b)) * binomial(a + b, b)\n",
    "ballot = Eq(B(a, b), expr)\n",
    "Ballot = Lambda([a, b], expr)\n",
    "ballot\n"
   ]
  },
  {
   "cell_type": "markdown",
   "metadata": {},
   "source": [
    "Eseguiamo ora le due funzioni (ballot numbers e Lobb) con $n, m$ fissati e verifichiamo se gli output coincidono. Notiamo che per ottenere la funzione generatrice dei numeri di Lobb, è sufficiente utilizzare la funzione generatrice per i numeri di Lobb generalizzati implementata in precedenza con $k=2$."
   ]
  },
  {
   "cell_type": "code",
   "execution_count": 72,
   "metadata": {},
   "outputs": [
    {
     "name": "stdout",
     "output_type": "stream",
     "text": [
      "Risultato Lobb:\n",
      "17\n",
      "Risultato Ballot:\n",
      "17\n"
     ]
    }
   ],
   "source": [
    "k = 2   \n",
    "\n",
    "m = 8           # parametri m, n fissati, scelti casualmente\n",
    "n = 9\n",
    "a = n + m + 1\n",
    "b = n - m\n",
    "\n",
    "print 'Risultato Lobb:'\n",
    "print Generalized_Lobb(k, n, m).doit()\n",
    "print 'Risultato Ballot:'\n",
    "print Ballot(a, b).doit()\n"
   ]
  },
  {
   "cell_type": "markdown",
   "metadata": {},
   "source": [
    "I due output coincidono, quindi abbiamo verificato (numericamente) la relazione. Concludiamo affermando che $L^2_{n,m}$ è un ballot number. Inoltre, dal Corollario 4 segue immediatamente che:\n",
    "\n",
    "# Corollario 5\n",
    "\n",
    "Sia $B(a,b)$ la funzione generatrice dei ballot numbers come definita sopra. Quindi gli unici numeri primi della forma $B(a,b)$ sono $B(k+1,1)=k$, dove $k$ è primo, $B(3,2)=2$, e $B(4,2)=B(4,3)=5$.\n",
    "\n",
    "Come per il precedente Corollario proviamo a eseguire il test di primalità su alcuni ballot numbers."
   ]
  },
  {
   "cell_type": "code",
   "execution_count": 73,
   "metadata": {},
   "outputs": [
    {
     "data": {
      "image/png": "[encoded data removed]",
      "text/latex": [
       "$$\\left [ 1, \\quad 2, \\quad 3, \\quad 4, \\quad 5, \\quad 6, \\quad 7, \\quad 8, \\quad 9, \\quad 10, \\quad 11, \\quad 12, \\quad 13, \\quad 14, \\quad 15, \\quad 16, \\quad 17, \\quad 18, \\quad 19\\right ]$$"
      ],
      "text/plain": [
       "[1, 2, 3, 4, 5, 6, 7, 8, 9, 10, 11, 12, 13, 14, 15, 16, 17, 18, 19]"
      ]
     },
     "execution_count": 73,
     "metadata": {},
     "output_type": "execute_result"
    }
   ],
   "source": [
    "temp = []\n",
    "b = 1\n",
    "for k in range(1, 20):\n",
    "    a = k + 1\n",
    "    temp = temp + [Ballot(a, b).doit()]\n",
    "temp\n"
   ]
  },
  {
   "cell_type": "code",
   "execution_count": 74,
   "metadata": {},
   "outputs": [
    {
     "name": "stdout",
     "output_type": "stream",
     "text": [
      "[1, 2, 3, 5, 7, 11, 13, 17, 19]\n"
     ]
    }
   ],
   "source": [
    "isPrime(temp)"
   ]
  },
  {
   "cell_type": "markdown",
   "metadata": {},
   "source": [
    "E' facile notare che il codice è stato scritto per ricadere volutamente nel primo caso della tesi del corollario, ovvero con parametri di input $a=k+1$ e $b=1$. Con questo abbiamo verificato numericamente che i primi 20 ballot numbers risultano primi se $k$ è primo. Inoltre osserviamo come la funzione generatrice con i suddetti parametri di input in realtà corrisponde ad una successione di interi consecutivi."
   ]
  }
 ],
 "metadata": {
  "kernelspec": {
   "display_name": "Python 2",
   "language": "python",
   "name": "python2"
  },
  "language_info": {
   "codemirror_mode": {
    "name": "ipython",
    "version": 2
   },
   "file_extension": ".py",
   "mimetype": "text/x-python",
   "name": "python",
   "nbconvert_exporter": "python",
   "pygments_lexer": "ipython2",
   "version": "2.7.15"
  }
 },
 "nbformat": 4,
 "nbformat_minor": 1
}
